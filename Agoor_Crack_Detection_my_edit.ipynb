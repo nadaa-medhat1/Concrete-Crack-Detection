{
 "cells": [
  {
   "cell_type": "markdown",
   "id": "ba8cbf8d",
   "metadata": {},
   "source": [
    "### Image Processing for detecting Cracks in Concrete for (Site Engineers)"
   ]
  },
  {
   "cell_type": "markdown",
   "id": "5a8a297d",
   "metadata": {},
   "source": [
    "### Coded By/Mohammed AGooR"
   ]
  },
  {
   "cell_type": "markdown",
   "id": "e94f5ee2",
   "metadata": {},
   "source": [
    "---------"
   ]
  },
  {
   "cell_type": "markdown",
   "id": "3b9500e2",
   "metadata": {},
   "source": [
    "### Import Used Libraries"
   ]
  },
  {
   "cell_type": "code",
   "execution_count": 2,
   "id": "7eb3c86c",
   "metadata": {},
   "outputs": [],
   "source": [
    "import numpy as np\n",
    "import pandas as pd\n",
    "import matplotlib.pyplot as plt\n",
    "import seaborn as sns\n",
    "\n",
    "import plotly.express as px\n",
    "\n",
    "from pathlib import Path\n",
    "\n",
    "from sklearn.model_selection import train_test_split\n",
    "from sklearn.metrics import confusion_matrix, classification_report, r2_score\n",
    "\n",
    "import tensorflow as tf"
   ]
  },
  {
   "cell_type": "markdown",
   "id": "a5825ecf",
   "metadata": {},
   "source": [
    "### Get Positive & Negative Directories"
   ]
  },
  {
   "cell_type": "code",
   "execution_count": 3,
   "id": "8a541312",
   "metadata": {},
   "outputs": [],
   "source": [
    "positive_dir = Path(r\"D:\\Artificial Intelligence\\Eng Mohamed Agoor\\Cracks_Detection-main\\Dataset\\Positive\")\n",
    "negative_dir = Path(r\"D:\\Artificial Intelligence\\Eng Mohamed Agoor\\Cracks_Detection-main\\Dataset\\Negative\")"
   ]
  },
  {
   "cell_type": "markdown",
   "id": "e60c9312",
   "metadata": {},
   "source": [
    "### Creating DataFrames"
   ]
  },
  {
   "cell_type": "code",
   "execution_count": 4,
   "id": "4abc92f8",
   "metadata": {},
   "outputs": [],
   "source": [
    "def generate_df(img_dir, label):\n",
    "    file_paths = pd.Series(list(img_dir.glob(r'*.jpg')), name='Filepath').astype(str)\n",
    "    labels = pd.Series(label, name='Label', index=file_paths.index)\n",
    "    df = pd.concat([file_paths, labels], axis=1)\n",
    "    return df"
   ]
  },
  {
   "cell_type": "code",
   "execution_count": 5,
   "id": "88e4afd3",
   "metadata": {},
   "outputs": [
    {
     "data": {
      "text/html": [
       "<div>\n",
       "<style scoped>\n",
       "    .dataframe tbody tr th:only-of-type {\n",
       "        vertical-align: middle;\n",
       "    }\n",
       "\n",
       "    .dataframe tbody tr th {\n",
       "        vertical-align: top;\n",
       "    }\n",
       "\n",
       "    .dataframe thead th {\n",
       "        text-align: right;\n",
       "    }\n",
       "</style>\n",
       "<table border=\"1\" class=\"dataframe\">\n",
       "  <thead>\n",
       "    <tr style=\"text-align: right;\">\n",
       "      <th></th>\n",
       "      <th>Filepath</th>\n",
       "      <th>Label</th>\n",
       "    </tr>\n",
       "  </thead>\n",
       "  <tbody>\n",
       "    <tr>\n",
       "      <th>0</th>\n",
       "      <td>D:\\Artificial Intelligence\\Eng Mohamed Agoor\\C...</td>\n",
       "      <td>POSITIVE</td>\n",
       "    </tr>\n",
       "    <tr>\n",
       "      <th>1</th>\n",
       "      <td>D:\\Artificial Intelligence\\Eng Mohamed Agoor\\C...</td>\n",
       "      <td>POSITIVE</td>\n",
       "    </tr>\n",
       "    <tr>\n",
       "      <th>2</th>\n",
       "      <td>D:\\Artificial Intelligence\\Eng Mohamed Agoor\\C...</td>\n",
       "      <td>POSITIVE</td>\n",
       "    </tr>\n",
       "    <tr>\n",
       "      <th>3</th>\n",
       "      <td>D:\\Artificial Intelligence\\Eng Mohamed Agoor\\C...</td>\n",
       "      <td>NEGATIVE</td>\n",
       "    </tr>\n",
       "    <tr>\n",
       "      <th>4</th>\n",
       "      <td>D:\\Artificial Intelligence\\Eng Mohamed Agoor\\C...</td>\n",
       "      <td>POSITIVE</td>\n",
       "    </tr>\n",
       "    <tr>\n",
       "      <th>...</th>\n",
       "      <td>...</td>\n",
       "      <td>...</td>\n",
       "    </tr>\n",
       "    <tr>\n",
       "      <th>39995</th>\n",
       "      <td>D:\\Artificial Intelligence\\Eng Mohamed Agoor\\C...</td>\n",
       "      <td>POSITIVE</td>\n",
       "    </tr>\n",
       "    <tr>\n",
       "      <th>39996</th>\n",
       "      <td>D:\\Artificial Intelligence\\Eng Mohamed Agoor\\C...</td>\n",
       "      <td>NEGATIVE</td>\n",
       "    </tr>\n",
       "    <tr>\n",
       "      <th>39997</th>\n",
       "      <td>D:\\Artificial Intelligence\\Eng Mohamed Agoor\\C...</td>\n",
       "      <td>POSITIVE</td>\n",
       "    </tr>\n",
       "    <tr>\n",
       "      <th>39998</th>\n",
       "      <td>D:\\Artificial Intelligence\\Eng Mohamed Agoor\\C...</td>\n",
       "      <td>POSITIVE</td>\n",
       "    </tr>\n",
       "    <tr>\n",
       "      <th>39999</th>\n",
       "      <td>D:\\Artificial Intelligence\\Eng Mohamed Agoor\\C...</td>\n",
       "      <td>NEGATIVE</td>\n",
       "    </tr>\n",
       "  </tbody>\n",
       "</table>\n",
       "<p>40000 rows × 2 columns</p>\n",
       "</div>"
      ],
      "text/plain": [
       "                                                Filepath     Label\n",
       "0      D:\\Artificial Intelligence\\Eng Mohamed Agoor\\C...  POSITIVE\n",
       "1      D:\\Artificial Intelligence\\Eng Mohamed Agoor\\C...  POSITIVE\n",
       "2      D:\\Artificial Intelligence\\Eng Mohamed Agoor\\C...  POSITIVE\n",
       "3      D:\\Artificial Intelligence\\Eng Mohamed Agoor\\C...  NEGATIVE\n",
       "4      D:\\Artificial Intelligence\\Eng Mohamed Agoor\\C...  POSITIVE\n",
       "...                                                  ...       ...\n",
       "39995  D:\\Artificial Intelligence\\Eng Mohamed Agoor\\C...  POSITIVE\n",
       "39996  D:\\Artificial Intelligence\\Eng Mohamed Agoor\\C...  NEGATIVE\n",
       "39997  D:\\Artificial Intelligence\\Eng Mohamed Agoor\\C...  POSITIVE\n",
       "39998  D:\\Artificial Intelligence\\Eng Mohamed Agoor\\C...  POSITIVE\n",
       "39999  D:\\Artificial Intelligence\\Eng Mohamed Agoor\\C...  NEGATIVE\n",
       "\n",
       "[40000 rows x 2 columns]"
      ]
     },
     "execution_count": 5,
     "metadata": {},
     "output_type": "execute_result"
    }
   ],
   "source": [
    "positive_df = generate_df(positive_dir, 'POSITIVE')\n",
    "negative_df = generate_df(negative_dir, 'NEGATIVE')\n",
    "\n",
    "# concatenate both positive and negative df\n",
    "all_df = pd.concat([positive_df, negative_df], axis=0).sample(frac=1.0, random_state=1).reset_index(drop=True)\n",
    "all_df"
   ]
  },
  {
   "cell_type": "markdown",
   "id": "d8ad2cc5",
   "metadata": {},
   "source": [
    "### Split the DataSet"
   ]
  },
  {
   "cell_type": "code",
   "execution_count": 6,
   "id": "399e9f5f",
   "metadata": {},
   "outputs": [],
   "source": [
    "train_df, test_df = train_test_split(all_df.sample(6000, random_state=1), \n",
    "                train_size=0.7,\n",
    "                shuffle=True,\n",
    "                random_state=1)"
   ]
  },
  {
   "cell_type": "code",
   "execution_count": null,
   "id": "f9f66ff7",
   "metadata": {},
   "outputs": [],
   "source": []
  },
  {
   "cell_type": "markdown",
   "id": "17340125",
   "metadata": {},
   "source": [
    "### Loading Image Data"
   ]
  },
  {
   "cell_type": "code",
   "execution_count": 7,
   "id": "6165ad25",
   "metadata": {},
   "outputs": [],
   "source": [
    "train_gen = tf.keras.preprocessing.image.ImageDataGenerator(rescale=1./255,\n",
    "                                                           validation_split=0.2)\n",
    "\n",
    "test_gen = tf.keras.preprocessing.image.ImageDataGenerator(rescale=1./255)"
   ]
  },
  {
   "cell_type": "code",
   "execution_count": 8,
   "id": "a55be1f8",
   "metadata": {},
   "outputs": [
    {
     "name": "stdout",
     "output_type": "stream",
     "text": [
      "Found 3360 validated image filenames belonging to 2 classes.\n",
      "Found 840 validated image filenames belonging to 2 classes.\n",
      "Found 1800 validated image filenames belonging to 2 classes.\n"
     ]
    }
   ],
   "source": [
    "train_data = train_gen.flow_from_dataframe(train_df, \n",
    "                                          x_col='Filepath',\n",
    "                                          y_col='Label',\n",
    "                                          target_size=(120,120), \n",
    "                                          color_mode='rgb',\n",
    "                                          class_mode='binary',\n",
    "                                          batch_size=32,\n",
    "                                          shuffle=True,\n",
    "                                          seed=42,\n",
    "                                          subset='training')\n",
    "\n",
    "\n",
    "val_data = train_gen.flow_from_dataframe(train_df, \n",
    "                                          x_col='Filepath',\n",
    "                                          y_col='Label',\n",
    "                                          target_size=(120,120), \n",
    "                                          color_mode='rgb',\n",
    "                                          class_mode='binary',\n",
    "                                          batch_size=32,\n",
    "                                          shuffle=True,\n",
    "                                          seed=42,\n",
    "                                          subset='validation')\n",
    "\n",
    "\n",
    "test_data = test_gen.flow_from_dataframe(test_df, \n",
    "                                          x_col='Filepath',\n",
    "                                          y_col='Label',\n",
    "                                          target_size=(120,120), \n",
    "                                          color_mode='rgb',\n",
    "                                          class_mode='binary',\n",
    "                                          batch_size=32,\n",
    "                                          shuffle=False,\n",
    "                                          seed=42)"
   ]
  },
  {
   "cell_type": "code",
   "execution_count": 9,
   "id": "0087b609",
   "metadata": {},
   "outputs": [
    {
     "data": {
      "text/plain": [
       "<keras.preprocessing.image.DataFrameIterator at 0x1380887d8e0>"
      ]
     },
     "execution_count": 9,
     "metadata": {},
     "output_type": "execute_result"
    }
   ],
   "source": [
    "test_data"
   ]
  },
  {
   "cell_type": "code",
   "execution_count": null,
   "id": "6a17c41b",
   "metadata": {},
   "outputs": [],
   "source": []
  },
  {
   "cell_type": "markdown",
   "id": "369c5e44",
   "metadata": {},
   "source": [
    "### Training DataSet"
   ]
  },
  {
   "cell_type": "code",
   "execution_count": 10,
   "id": "2ee01df2",
   "metadata": {},
   "outputs": [],
   "source": [
    "inputs = tf.keras.Input(shape=(120,120,3))\n",
    "x = tf.keras.layers.Conv2D(filters=16, kernel_size=(3,3), activation='relu')(inputs)\n",
    "x = tf.keras.layers.MaxPool2D(pool_size=(2,2))(x)\n",
    "x = tf.keras.layers.Conv2D(filters=32, kernel_size=(3,3), activation='relu')(x)\n",
    "x = tf.keras.layers.MaxPool2D(pool_size=(2,2))(x)\n",
    "\n",
    "x = tf.keras.layers.GlobalAveragePooling2D()(x)\n",
    "outputs = tf.keras.layers.Dense(1, activation='sigmoid')(x)"
   ]
  },
  {
   "cell_type": "code",
   "execution_count": 11,
   "id": "a92a1daa",
   "metadata": {},
   "outputs": [],
   "source": [
    "model = tf.keras.Model(inputs=inputs, outputs=outputs)"
   ]
  },
  {
   "cell_type": "code",
   "execution_count": 12,
   "id": "5c6b99c4",
   "metadata": {},
   "outputs": [],
   "source": [
    "model.compile(optimizer='adam',\n",
    "             loss='binary_crossentropy',\n",
    "             metrics=['accuracy'])"
   ]
  },
  {
   "cell_type": "code",
   "execution_count": 13,
   "id": "539d5943",
   "metadata": {
    "scrolled": false
   },
   "outputs": [
    {
     "name": "stdout",
     "output_type": "stream",
     "text": [
      "Model: \"model\"\n",
      "_________________________________________________________________\n",
      " Layer (type)                Output Shape              Param #   \n",
      "=================================================================\n",
      " input_1 (InputLayer)        [(None, 120, 120, 3)]     0         \n",
      "                                                                 \n",
      " conv2d (Conv2D)             (None, 118, 118, 16)      448       \n",
      "                                                                 \n",
      " max_pooling2d (MaxPooling2D  (None, 59, 59, 16)       0         \n",
      " )                                                               \n",
      "                                                                 \n",
      " conv2d_1 (Conv2D)           (None, 57, 57, 32)        4640      \n",
      "                                                                 \n",
      " max_pooling2d_1 (MaxPooling  (None, 28, 28, 32)       0         \n",
      " 2D)                                                             \n",
      "                                                                 \n",
      " global_average_pooling2d (G  (None, 32)               0         \n",
      " lobalAveragePooling2D)                                          \n",
      "                                                                 \n",
      " dense (Dense)               (None, 1)                 33        \n",
      "                                                                 \n",
      "=================================================================\n",
      "Total params: 5,121\n",
      "Trainable params: 5,121\n",
      "Non-trainable params: 0\n",
      "_________________________________________________________________\n"
     ]
    }
   ],
   "source": [
    "# print model summary\n",
    "model.summary()"
   ]
  },
  {
   "cell_type": "code",
   "execution_count": null,
   "id": "8ab978c2",
   "metadata": {},
   "outputs": [],
   "source": []
  },
  {
   "cell_type": "code",
   "execution_count": 14,
   "id": "4f965475",
   "metadata": {},
   "outputs": [
    {
     "name": "stdout",
     "output_type": "stream",
     "text": [
      "Epoch 1/100\n",
      "105/105 [==============================] - 162s 2s/step - loss: 0.6708 - accuracy: 0.5860 - val_loss: 0.6676 - val_accuracy: 0.5048\n",
      "Epoch 2/100\n",
      "105/105 [==============================] - 77s 740ms/step - loss: 0.6026 - accuracy: 0.7045 - val_loss: 0.5677 - val_accuracy: 0.7738\n",
      "Epoch 3/100\n",
      "105/105 [==============================] - 77s 737ms/step - loss: 0.5144 - accuracy: 0.8089 - val_loss: 0.4798 - val_accuracy: 0.8333\n",
      "Epoch 4/100\n",
      "105/105 [==============================] - 82s 778ms/step - loss: 0.4279 - accuracy: 0.8830 - val_loss: 0.3809 - val_accuracy: 0.8917\n",
      "Epoch 5/100\n",
      "105/105 [==============================] - 76s 727ms/step - loss: 0.3527 - accuracy: 0.9134 - val_loss: 0.3096 - val_accuracy: 0.9321\n",
      "Epoch 6/100\n",
      "105/105 [==============================] - 73s 697ms/step - loss: 0.2910 - accuracy: 0.9283 - val_loss: 0.2459 - val_accuracy: 0.9440\n",
      "Epoch 7/100\n",
      "105/105 [==============================] - 76s 719ms/step - loss: 0.2489 - accuracy: 0.9366 - val_loss: 0.2116 - val_accuracy: 0.9417\n",
      "Epoch 8/100\n",
      "105/105 [==============================] - 81s 768ms/step - loss: 0.2218 - accuracy: 0.9449 - val_loss: 0.2031 - val_accuracy: 0.9286\n",
      "Epoch 9/100\n",
      "105/105 [==============================] - 77s 730ms/step - loss: 0.1892 - accuracy: 0.9515 - val_loss: 0.1638 - val_accuracy: 0.9548\n",
      "Epoch 10/100\n",
      "105/105 [==============================] - 40s 379ms/step - loss: 0.1816 - accuracy: 0.9545 - val_loss: 0.1451 - val_accuracy: 0.9548\n",
      "Epoch 11/100\n",
      "105/105 [==============================] - 85s 813ms/step - loss: 0.1687 - accuracy: 0.9571 - val_loss: 0.1345 - val_accuracy: 0.9524\n",
      "Epoch 12/100\n",
      "105/105 [==============================] - 103s 985ms/step - loss: 0.1549 - accuracy: 0.9604 - val_loss: 0.1230 - val_accuracy: 0.9571\n",
      "Epoch 13/100\n",
      "105/105 [==============================] - 80s 755ms/step - loss: 0.1501 - accuracy: 0.9622 - val_loss: 0.1565 - val_accuracy: 0.9690\n",
      "Epoch 14/100\n",
      "105/105 [==============================] - 90s 853ms/step - loss: 0.1372 - accuracy: 0.9622 - val_loss: 0.1212 - val_accuracy: 0.9595\n",
      "Epoch 15/100\n",
      "105/105 [==============================] - 82s 777ms/step - loss: 0.1292 - accuracy: 0.9679 - val_loss: 0.1357 - val_accuracy: 0.9452\n",
      "Epoch 16/100\n",
      "105/105 [==============================] - 82s 778ms/step - loss: 0.1287 - accuracy: 0.9649 - val_loss: 0.1106 - val_accuracy: 0.9607\n",
      "Epoch 17/100\n",
      "105/105 [==============================] - 68s 650ms/step - loss: 0.1191 - accuracy: 0.9661 - val_loss: 0.1063 - val_accuracy: 0.9595\n",
      "Epoch 18/100\n",
      "105/105 [==============================] - 67s 630ms/step - loss: 0.1099 - accuracy: 0.9679 - val_loss: 0.1146 - val_accuracy: 0.9583\n",
      "Epoch 19/100\n",
      "105/105 [==============================] - 80s 757ms/step - loss: 0.1095 - accuracy: 0.9664 - val_loss: 0.1030 - val_accuracy: 0.9619\n",
      "Epoch 20/100\n",
      "105/105 [==============================] - 81s 768ms/step - loss: 0.1054 - accuracy: 0.9696 - val_loss: 0.0921 - val_accuracy: 0.9643\n",
      "Epoch 21/100\n",
      "105/105 [==============================] - 82s 775ms/step - loss: 0.1008 - accuracy: 0.9711 - val_loss: 0.1085 - val_accuracy: 0.9583\n",
      "Epoch 22/100\n",
      "105/105 [==============================] - 77s 725ms/step - loss: 0.1036 - accuracy: 0.9685 - val_loss: 0.0946 - val_accuracy: 0.9655\n",
      "Epoch 23/100\n",
      "105/105 [==============================] - 87s 829ms/step - loss: 0.0940 - accuracy: 0.9735 - val_loss: 0.0867 - val_accuracy: 0.9690\n",
      "Epoch 24/100\n",
      "105/105 [==============================] - 75s 709ms/step - loss: 0.0942 - accuracy: 0.9720 - val_loss: 0.0885 - val_accuracy: 0.9702\n",
      "Epoch 25/100\n",
      "105/105 [==============================] - 52s 501ms/step - loss: 0.0921 - accuracy: 0.9744 - val_loss: 0.0963 - val_accuracy: 0.9702\n",
      "Epoch 26/100\n",
      "105/105 [==============================] - 55s 523ms/step - loss: 0.1067 - accuracy: 0.9682 - val_loss: 0.0912 - val_accuracy: 0.9690\n"
     ]
    }
   ],
   "source": [
    "history = model.fit(train_data, validation_data=val_data, epochs=100, \n",
    "                   callbacks=[tf.keras.callbacks.EarlyStopping(monitor='val_loss',\n",
    "                                                              patience=3,\n",
    "                                                              restore_best_weights=True)\n",
    "                             ])"
   ]
  },
  {
   "cell_type": "markdown",
   "id": "29ad7c7e",
   "metadata": {},
   "source": [
    "### Plotting"
   ]
  },
  {
   "cell_type": "markdown",
   "id": "4e9f39a2",
   "metadata": {},
   "source": [
    "### Final Results"
   ]
  },
  {
   "cell_type": "code",
   "execution_count": 15,
   "id": "84aada8c",
   "metadata": {},
   "outputs": [],
   "source": [
    "def evaluate_model(model, test_data):\n",
    "    \n",
    "    results = model.evaluate(test_data, verbose=0)\n",
    "    loss = results[0]\n",
    "    accuracy = results[1]\n",
    "    \n",
    "    print(f'Test Loss {loss:.5f}')\n",
    "    print(f'Test Accuracy {accuracy * 100:.2f} %')\n",
    "    \n",
    "    \n",
    "    # predicted y values\n",
    "    y_pred = np.squeeze((model.predict(test_data) >= 0.5).astype(np.int))\n",
    "    y_certain = np.squeeze((model.predict(test_data)).astype(np.int))\n",
    "    \n",
    "    conf_matr = confusion_matrix(test_data.labels, y_pred)\n",
    "    \n",
    "    class_report = classification_report(test_data.labels, y_pred,\n",
    "                                         target_names=['NEGATIVE', 'POSITIVE'])\n",
    "    \n",
    "    plt.figure(figsize=(6,6))\n",
    "    \n",
    "    sns.heatmap(conf_matr, fmt='g', annot=True, cbar=False, vmin=0, cmap='Blues')\n",
    "    \n",
    "    plt.xticks(ticks=np.arange(2) + 0.5, labels=['NEGATIVE', 'POSITIVE'])\n",
    "    plt.yticks(ticks=np.arange(2) + 0.5, labels=['NEGATIVE', 'POSITIVE'])\n",
    "    plt.xlabel('Predicted')\n",
    "    plt.ylabel('Actual')\n",
    "    plt.title('Confusion Matrix')\n",
    "    plt.show()\n",
    "    \n",
    "    print('r2 Score : ', r2_score(test_data.labels, y_pred))\n",
    "    print()\n",
    "    print('Classification Report :\\n......................\\n', class_report)"
   ]
  },
  {
   "cell_type": "code",
   "execution_count": 16,
   "id": "aae0d59b",
   "metadata": {},
   "outputs": [
    {
     "name": "stdout",
     "output_type": "stream",
     "text": [
      "Test Loss 0.07631\n",
      "Test Accuracy 97.67 %\n",
      "57/57 [==============================] - 14s 244ms/step\n"
     ]
    },
    {
     "name": "stderr",
     "output_type": "stream",
     "text": [
      "C:\\Users\\gamma\\AppData\\Local\\Temp\\ipykernel_5000\\1954838651.py:12: DeprecationWarning: `np.int` is a deprecated alias for the builtin `int`. To silence this warning, use `int` by itself. Doing this will not modify any behavior and is safe. When replacing `np.int`, you may wish to use e.g. `np.int64` or `np.int32` to specify the precision. If you wish to review your current use, check the release note link for additional information.\n",
      "Deprecated in NumPy 1.20; for more details and guidance: https://numpy.org/devdocs/release/1.20.0-notes.html#deprecations\n",
      "  y_pred = np.squeeze((model.predict(test_data) >= 0.5).astype(np.int))\n"
     ]
    },
    {
     "name": "stdout",
     "output_type": "stream",
     "text": [
      "57/57 [==============================] - 12s 205ms/step\n"
     ]
    },
    {
     "name": "stderr",
     "output_type": "stream",
     "text": [
      "C:\\Users\\gamma\\AppData\\Local\\Temp\\ipykernel_5000\\1954838651.py:13: DeprecationWarning: `np.int` is a deprecated alias for the builtin `int`. To silence this warning, use `int` by itself. Doing this will not modify any behavior and is safe. When replacing `np.int`, you may wish to use e.g. `np.int64` or `np.int32` to specify the precision. If you wish to review your current use, check the release note link for additional information.\n",
      "Deprecated in NumPy 1.20; for more details and guidance: https://numpy.org/devdocs/release/1.20.0-notes.html#deprecations\n",
      "  y_certain = np.squeeze((model.predict(test_data)).astype(np.int))\n"
     ]
    },
    {
     "data": {
      "image/png": "[encoded data removed]",
      "text/plain": [
       "<Figure size 432x432 with 1 Axes>"
      ]
     },
     "metadata": {
      "needs_background": "light"
     },
     "output_type": "display_data"
    },
    {
     "name": "stdout",
     "output_type": "stream",
     "text": [
      "r2 Score :  0.9066333543696454\n",
      "\n",
      "Classification Report :\n",
      "......................\n",
      "               precision    recall  f1-score   support\n",
      "\n",
      "    NEGATIVE       0.96      0.99      0.98       917\n",
      "    POSITIVE       0.99      0.96      0.98       883\n",
      "\n",
      "    accuracy                           0.98      1800\n",
      "   macro avg       0.98      0.98      0.98      1800\n",
      "weighted avg       0.98      0.98      0.98      1800\n",
      "\n"
     ]
    }
   ],
   "source": [
    "evaluate_model(model, test_data)"
   ]
  },
  {
   "cell_type": "code",
   "execution_count": 33,
   "id": "0730962b",
   "metadata": {},
   "outputs": [
    {
     "ename": "NameError",
     "evalue": "name 'cross_val_predict' is not defined",
     "output_type": "error",
     "traceback": [
      "\u001b[1;31m---------------------------------------------------------------------------\u001b[0m",
      "\u001b[1;31mNameError\u001b[0m                                 Traceback (most recent call last)",
      "Input \u001b[1;32mIn [33]\u001b[0m, in \u001b[0;36m<cell line: 1>\u001b[1;34m()\u001b[0m\n\u001b[1;32m----> 1\u001b[0m y_scores_cnn \u001b[38;5;241m=\u001b[39m \u001b[43mcross_val_predict\u001b[49m(model, all_df[filepath], all_df[label], cv\u001b[38;5;241m=\u001b[39m\u001b[38;5;241m5\u001b[39m, n_jobs\u001b[38;5;241m=\u001b[39m\u001b[38;5;241m-\u001b[39m\u001b[38;5;241m1\u001b[39m, method\u001b[38;5;241m=\u001b[39m\u001b[38;5;124m'\u001b[39m\u001b[38;5;124mpredict_proba\u001b[39m\u001b[38;5;124m'\u001b[39m)\n",
      "\u001b[1;31mNameError\u001b[0m: name 'cross_val_predict' is not defined"
     ]
    }
   ],
   "source": [
    "y_scores_cnn = cross_val_predict(model, all_df[filepath], all_df[label], cv=5, n_jobs=-1, method='predict_proba')"
   ]
  },
  {
   "cell_type": "code",
   "execution_count": null,
   "id": "efdb2564",
   "metadata": {},
   "outputs": [],
   "source": []
  },
  {
   "cell_type": "code",
   "execution_count": null,
   "id": "fc53573c",
   "metadata": {},
   "outputs": [],
   "source": [
    "\n",
    "## Plotting the ROC for KNN & SGD\n",
    "## Plotting\n",
    "plt.figure(figsize=(10, 6))\n",
    "plt.plot(fpr_sgd, tpr_sgd, linewidth=2, color='b', label='SGDClassifier')\n",
    "plt.plot(fpr_knn, tpr_knn, linewidth=2, color='y', label='KNN')\n",
    "plt.plot([1, 0], [1, 0], 'r--', label='Random Classifier')\n",
    "plt.scatter(0, 0, color='g', s=50)\n",
    "plt.scatter(1, 1, color='g', s=50)\n",
    "plt.title('ROC Curve')\n",
    "plt.xlabel('False Positive Rate (FPR)', fontsize=14)\n",
    "plt.ylabel('True Positive Rate (TPR = Recall)', fontsize=14)\n",
    "plt.legend(fontsize=12)\n",
    "plt.show()"
   ]
  },
  {
   "cell_type": "code",
   "execution_count": 17,
   "id": "814609cf",
   "metadata": {},
   "outputs": [
    {
     "name": "stdout",
     "output_type": "stream",
     "text": [
      "1/1 [==============================] - 0s 154ms/step\n",
      "not cracked\n"
     ]
    }
   ],
   "source": [
    "import numpy as np\n",
    "from tensorflow.keras.preprocessing import image\n",
    "test_image = image.load_img(r\"C:\\Users\\gamma\\Desktop\\Dataset\\check\\new_check2.png\", target_size = (120, 120))\n",
    "test_image = image.img_to_array(test_image)\n",
    "test_image = np.expand_dims(test_image, axis = 0)\n",
    "result = model.predict(test_image)\n",
    "train_data.class_indices\n",
    "if result[0][0] == 1:\n",
    "  prediction = 'cracked'\n",
    "else:\n",
    "  prediction = 'not cracked'\n",
    "print(prediction)"
   ]
  },
  {
   "cell_type": "markdown",
   "id": "5bc6c656",
   "metadata": {},
   "source": [
    "### Testing New DataSet"
   ]
  },
  {
   "cell_type": "code",
   "execution_count": null,
   "id": "bfff48e4",
   "metadata": {},
   "outputs": [],
   "source": []
  },
  {
   "cell_type": "code",
   "execution_count": null,
   "id": "a65ecdb6",
   "metadata": {},
   "outputs": [],
   "source": []
  }
 ],
 "metadata": {
  "kernelspec": {
   "display_name": "Python 3 (ipykernel)",
   "language": "python",
   "name": "python3"
  },
  "language_info": {
   "codemirror_mode": {
    "name": "ipython",
    "version": 3
   },
   "file_extension": ".py",
   "mimetype": "text/x-python",
   "name": "python",
   "nbconvert_exporter": "python",
   "pygments_lexer": "ipython3",
   "version": "3.9.12"
  }
 },
 "nbformat": 4,
 "nbformat_minor": 5
}
